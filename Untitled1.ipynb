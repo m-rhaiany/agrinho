{
  "nbformat": 4,
  "nbformat_minor": 0,
  "metadata": {
    "colab": {
      "provenance": [],
      "authorship_tag": "ABX9TyOlfrtspYZIDNiJTIUg+NP4",
      "include_colab_link": true
    },
    "kernelspec": {
      "name": "python3",
      "display_name": "Python 3"
    },
    "language_info": {
      "name": "python"
    }
  },
  "cells": [
    {
      "cell_type": "markdown",
      "metadata": {
        "id": "view-in-github",
        "colab_type": "text"
      },
      "source": [
        "<a href=\"https://colab.research.google.com/github/m-rhaiany/agrinho/blob/main/Untitled1.ipynb\" target=\"_parent\"><img src=\"https://colab.research.google.com/assets/colab-badge.svg\" alt=\"Open In Colab\"/></a>"
      ]
    },
    {
      "cell_type": "code",
      "execution_count": null,
      "metadata": {
        "colab": {
          "base_uri": "https://localhost:8080/"
        },
        "id": "pxF8FCHQ_LbL",
        "outputId": "c9df9a51-068f-45f5-9d83-a0937e43d30e"
      },
      "outputs": [
        {
          "output_type": "stream",
          "name": "stdout",
          "text": [
            "\n",
            "Escolha uma operação:\n",
            "1 - Cadastrar Produto\n",
            "2 - Realizar Venda\n",
            "3 - Consultar Estoque\n",
            "4 - Gerar Relatório de Estoque\n",
            "5 - Sair\n",
            "Opção: 1\n",
            "Informe o nome do produto: camiseta\n",
            "Informe o preço do produto camiseta: 50\n",
            "Informe a quantidade de camiseta no estoque: 100\n",
            "Produto camiseta cadastrado com sucesso!\n",
            "\n",
            "Escolha uma operação:\n",
            "1 - Cadastrar Produto\n",
            "2 - Realizar Venda\n",
            "3 - Consultar Estoque\n",
            "4 - Gerar Relatório de Estoque\n",
            "5 - Sair\n",
            "Opção: 3\n",
            "Informe o nome do produto para consulta: camiseta\n",
            "Produto camiseta: 100 unidades em estoque.\n",
            "\n",
            "Escolha uma operação:\n",
            "1 - Cadastrar Produto\n",
            "2 - Realizar Venda\n",
            "3 - Consultar Estoque\n",
            "4 - Gerar Relatório de Estoque\n",
            "5 - Sair\n"
          ]
        }
      ],
      "source": [
        "# Definindo o estoque inicial como um dicionário\n",
        "estoque = {}\n",
        "\n",
        "# Função para cadastrar um produto no estoque\n",
        "def cadastrar_produto():\n",
        "    nome = input(\"Informe o nome do produto: \")\n",
        "    if nome in estoque:\n",
        "        print(f\"O produto {nome} já está cadastrado no estoque.\")\n",
        "    else:\n",
        "        preco = float(input(f\"Informe o preço do produto {nome}: \"))\n",
        "        quantidade = int(input(f\"Informe a quantidade de {nome} no estoque: \"))\n",
        "        estoque[nome] = {'preco': preco, 'quantidade': quantidade}\n",
        "        print(f\"Produto {nome} cadastrado com sucesso!\")\n",
        "\n",
        "# Função para realizar a venda de um produto\n",
        "def realizar_venda():\n",
        "    nome = input(\"Informe o nome do produto que deseja vender: \")\n",
        "    if nome not in estoque:\n",
        "        print(f\"Produto {nome} não encontrado no estoque.\")\n",
        "        return\n",
        "    quantidade_vendida = int(input(f\"Informe a quantidade de {nome} a ser vendida: \"))\n",
        "    if estoque[nome]['quantidade'] >= quantidade_vendida:\n",
        "        estoque[nome]['quantidade'] -= quantidade_vendida\n",
        "        print(f\"Venda realizada! Quantidade de {nome} restante: {estoque[nome]['quantidade']}\")\n",
        "    else:\n",
        "        print(f\"Erro: Não há quantidade suficiente de {nome} no estoque.\")\n",
        "\n",
        "# Função para consultar o estoque de um produto\n",
        "def consultar_estoque():\n",
        "    nome = input(\"Informe o nome do produto para consulta: \")\n",
        "    if nome in estoque:\n",
        "        print(f\"Produto {nome}: {estoque[nome]['quantidade']} unidades em estoque.\")\n",
        "    else:\n",
        "        print(f\"Produto {nome} não encontrado no estoque.\")\n",
        "\n",
        "# Função para gerar o relatório do estoque\n",
        "def gerar_relatorio():\n",
        "    if not estoque:\n",
        "        print(\"Estoque vazio.\")\n",
        "        return\n",
        "    print(\"\\nRelatório de Estoque:\")\n",
        "    for produto, dados in estoque.items():\n",
        "        print(f\"Produto: {produto}, Preço: R${dados['preco']:.2f}, Quantidade: {dados['quantidade']}\")\n",
        "\n",
        "# Função principal para controlar o fluxo de operações\n",
        "def menu():\n",
        "    while True:\n",
        "        print(\"\\nEscolha uma operação:\")\n",
        "        print(\"1 - Cadastrar Produto\")\n",
        "        print(\"2 - Realizar Venda\")\n",
        "        print(\"3 - Consultar Estoque\")\n",
        "        print(\"4 - Gerar Relatório de Estoque\")\n",
        "        print(\"5 - Sair\")\n",
        "\n",
        "        opcao = input(\"Opção: \")\n",
        "\n",
        "        if opcao == '1':\n",
        "            cadastrar_produto()\n",
        "        elif opcao == '2':\n",
        "            realizar_venda()\n",
        "        elif opcao == '3':\n",
        "            consultar_estoque()\n",
        "        elif opcao == '4':\n",
        "            gerar_relatorio()\n",
        "        elif opcao == '5':\n",
        "            print(\"Sistema encerrado. Até logo!\")\n",
        "            break\n",
        "        else:\n",
        "            print(\"Opção inválida! Tente novamente.\")\n",
        "\n",
        "# Iniciar o programa\n",
        "menu()"
      ]
    }
  ]
}