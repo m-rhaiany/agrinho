{
  "nbformat": 4,
  "nbformat_minor": 0,
  "metadata": {
    "colab": {
      "provenance": [],
      "authorship_tag": "ABX9TyOUjmHrtm47daP2Y5konyCI",
      "include_colab_link": true
    },
    "kernelspec": {
      "name": "python3",
      "display_name": "Python 3"
    },
    "language_info": {
      "name": "python"
    }
  },
  "cells": [
    {
      "cell_type": "markdown",
      "metadata": {
        "id": "view-in-github",
        "colab_type": "text"
      },
      "source": [
        "<a href=\"https://colab.research.google.com/github/m-rhaiany/agrinho/blob/main/3TRI_aula_4.ipynb\" target=\"_parent\"><img src=\"https://colab.research.google.com/assets/colab-badge.svg\" alt=\"Open In Colab\"/></a>"
      ]
    },
    {
      "cell_type": "code",
      "execution_count": 7,
      "metadata": {
        "colab": {
          "base_uri": "https://localhost:8080/",
          "height": 106
        },
        "id": "DzUjdggs5iyp",
        "outputId": "852de7a4-2df1-4ee1-895d-0444587165a7"
      },
      "outputs": [
        {
          "output_type": "error",
          "ename": "SyntaxError",
          "evalue": "unterminated string literal (detected at line 30) (ipython-input-3527596814.py, line 30)",
          "traceback": [
            "\u001b[0;36m  File \u001b[0;32m\"/tmp/ipython-input-3527596814.py\"\u001b[0;36m, line \u001b[0;32m30\u001b[0m\n\u001b[0;31m    numero_de_alunos = obter_numero_int(\"Digite a quantidade de alunos\u001b[0m\n\u001b[0m                                        ^\u001b[0m\n\u001b[0;31mSyntaxError\u001b[0m\u001b[0;31m:\u001b[0m unterminated string literal (detected at line 30)\n"
          ]
        }
      ],
      "source": [
        "\n",
        "# DESAFIO: Verificar se todos podem subir no bondinho de uma só vez\n",
        "\n",
        "# Entrada de dados: Solicita ao usuário a quantidade de alunos\n",
        "numero_de_alunos = int(input(\"Digite a quantidade de alunos: \"))\n",
        "\n",
        "# Entrada de dados: Solicita ao usuário a quantidade de monitores\n",
        "numero_de_monitores = int(input(\"Digite a quantidade de monitores: \"))\n",
        "\n",
        "# Soma total de pessoas que querem subir no bondinho\n",
        "total_de_pessoas = numero_de_alunos + numero_de_monitores\n",
        "\n",
        "# Verificação se todos podem subir juntos (capacidade máxima do bondinho: 50 pessoas)\n",
        "if total_de_pessoas <= 50:\n",
        "    print(\"Todos podem subir no bondinho juntos!\")\n",
        "else:\n",
        "    print(\"Será necessário fazer mais de uma viagem.\")\n",
        "    # Função para garantir que a entrada seja um número inteiro e positivo\n",
        "def obter_numero_int(msg):\n",
        "    while True:\n",
        "        try:\n",
        "            valor = int(input(msg))\n",
        "            if valor < 0:\n",
        "                print(\"O número não pode ser negativo. Tente novamente.\")\n",
        "            else:\n",
        "                return valor\n",
        "        except ValueError:\n",
        "            print(\"Por favor, digite um número inteiro válido.\")\n",
        "\n",
        "# Entrada de dados com validação\n",
        "numero_de_alunos = obter_numero_int(\"Digite a quantidade de alunos\n",
        ": \")\n",
        "numero_de_monitores = obter_numero_int(\"Digite a quantidade de monitores: \")\n",
        "\n",
        "# Número fixo de professores\n",
        "numero_de_professores = 8\n",
        "\n",
        "# Capacidade máxima do novo bondinho\n",
        "capacidade_maxima = 30\n",
        "\n",
        "# Verificação da capacidade do novo bondinho\n",
        "total_pessoas = numero_de_alunos + numero_de_monitores + numero_de_professores\n",
        "\n",
        "if total_pessoas <= capacidade_maxima:\n",
        "    print(f\"{total_pessoas} pessoas podem ir no bondinho.\")\n",
        "else:\n",
        "    print(f\"{total_pessoas} pessoas não cabem no bondinho. O limite é {capacidade_maxima}.\")"
      ]
    },
    {
      "cell_type": "code",
      "source": [
        "Escolha uma operação:\n",
        "1 - Cadastrar produto\n",
        "2 - Realizar venda\n",
        "3 - Consultar estoque\n",
        "4 - Gerar relatório\n",
        "5 - Sair\n",
        "\n",
        "Opção: 1\n",
        "Informe o nome do produto: Camiseta\n",
        "Informe o preço do produto: 25\n",
        "Informe a quantidade inicial: 100\n",
        "\n",
        "Produto \"Camiseta\" cadastrado com sucesso!\n",
        "\n",
        "Escolha uma operação:\n",
        "1 - Cadastrar produto\n",
        "2 - Realizar venda\n",
        "3 - Consultar estoque\n",
        "4 - Gerar relatório\n",
        "5 - Sair\n",
        "\n",
        "Opção: 2\n",
        "Informe o nome do produto: Camiseta\n",
        "Informe a quantidade vendida: 6\n",
        "\n",
        "Venda realizada com sucesso! Quantidade de \"Camiseta\" restante: 95\n",
        "\n",
        "Escolha uma operação:\n",
        "1 - Cadastrar produto\n",
        "2 - Realizar venda\n",
        "3 - Consultar estoque\n",
        "4 - Gerar relatório\n",
        "5 - Sair\n",
        "\n",
        "Opção: 4\n",
        "Relatório de produtos:\n",
        "Nome: Camiseta, Preço: 50, Quantidade: 95\n",
        "\n",
        "Escolha uma operação:\n",
        "1 - Cadastrar produto\n",
        "2 - Realizar venda\n",
        "3 - Consultar estoque\n",
        "4 - Gerar relatório\n",
        "5 - Sair\n",
        "\n",
        "Opção: 5\n",
        "Até logo! O sistema foi encerrado.\n"
      ],
      "metadata": {
        "colab": {
          "base_uri": "https://localhost:8080/",
          "height": 106
        },
        "id": "eyFK6QH0-GDg",
        "outputId": "852dddcd-daa3-47ff-c03b-7b6143960dc5"
      },
      "execution_count": 9,
      "outputs": [
        {
          "output_type": "error",
          "ename": "SyntaxError",
          "evalue": "invalid syntax (ipython-input-389462625.py, line 1)",
          "traceback": [
            "\u001b[0;36m  File \u001b[0;32m\"/tmp/ipython-input-389462625.py\"\u001b[0;36m, line \u001b[0;32m1\u001b[0m\n\u001b[0;31m    Escolha uma operação:\u001b[0m\n\u001b[0m            ^\u001b[0m\n\u001b[0;31mSyntaxError\u001b[0m\u001b[0;31m:\u001b[0m invalid syntax\n"
          ]
        }
      ]
    }
  ]
}